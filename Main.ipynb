{
 "cells": [
  {
   "cell_type": "markdown",
   "metadata": {},
   "source": [
    "# Empathic Zoom\n",
    "\n",
    "Este script utiliza Selenium y la librería Deep Face para detectar las caras de los participantes en una reunión de Zoom web y mostrar las emociones de la reunión.\n",
    "\n",
    "Para ello, el script abrirá una sesión de Chrome automatizada con Selenium, accederá a la reunión de Zoom utilizando la URL proporcionada, y luego utilizará Deep Face para analizar las expresiones faciales de los participantes.\n",
    "\n",
    "*(Podemos llegar a usar OpenCV para analizar, ademas de las emociones, los gestos corporales)*\n",
    "\n",
    "*Por ejemplo:*\n",
    "- Detección de Movimiento y Postura: Utilizar algoritmos de visión por computadora para detectar el movimiento de las personas y su postura durante la reunión. Un aumento en el movimiento o cambios en la postura pueden indicar un mayor nivel de interés o participación.\n",
    "- Reconocimiento de Gestos Faciales: Analizar los gestos faciales de los participantes para detectar sonrisas, fruncir el ceño, miradas de atención, entre otros.\n",
    "- Participación en la Conversación: Analizar la participación verbal de las personas en la reunión, como la cantidad de tiempo que hablan, la frecuencia con la que hacen preguntas o comentarios, etc."
   ]
  },
  {
   "cell_type": "markdown",
   "metadata": {},
   "source": [
    "#### Librerías necesarias\n",
    "\n",
    "- pip install selenium\n",
    "- pip install deepface"
   ]
  },
  {
   "cell_type": "code",
   "execution_count": 3,
   "metadata": {},
   "outputs": [],
   "source": [
    "# Importamos librerias necesarias\n",
    "\n",
    "from selenium import webdriver\n",
    "from deepface import DeepFace\n",
    "import time"
   ]
  },
  {
   "cell_type": "code",
   "execution_count": null,
   "metadata": {},
   "outputs": [],
   "source": [
    "# Defino las funciones necesarias\n",
    "\n",
    "# Funcion para obtener el estado de animo\n",
    "\n",
    "def obtener_estado_animo(imagen):\n",
    "    result = DeepFace.analyze(imagen, actions=['emotion'])\n",
    "    return result['dominant_emotion']\n",
    "\n",
    "# Funcion para abrir Zoom y obtener las caras\n",
    "\n",
    "def obtener_caras(url_zoom):\n",
    "    driver = webdriver.Chrome()\n",
    "    driver.get(url_zoom)\n",
    "    time.sleep(10)  # Esperar a que la reunión se cargue completamente\n",
    "\n",
    "    # Puedes usar la función obtener_estado_animo en este punto para analizar las caras\n",
    "    # Por ejemplo, puedes capturar la pantalla y luego analizarla con DeepFace\n",
    "    # Aquí un ejemplo simple:\n",
    "    screenshot = driver.save_screenshot(\"screenshot.png\")\n",
    "    estado_animo = obtener_estado_animo(\"screenshot.png\")\n",
    "\n",
    "    driver.quit()\n",
    "    return estado_animo\n"
   ]
  },
  {
   "cell_type": "code",
   "execution_count": null,
   "metadata": {},
   "outputs": [],
   "source": [
    "url_zoom = \"URL_DE_TU_REUNION_DE_ZOOM\"\n",
    "estado_animo = obtener_caras(url_zoom)\n",
    "print(\"Estado de ánimo de la reunión:\", estado_animo)\n"
   ]
  }
 ],
 "metadata": {
  "kernelspec": {
   "display_name": "Python 3",
   "language": "python",
   "name": "python3"
  },
  "language_info": {
   "codemirror_mode": {
    "name": "ipython",
    "version": 3
   },
   "file_extension": ".py",
   "mimetype": "text/x-python",
   "name": "python",
   "nbconvert_exporter": "python",
   "pygments_lexer": "ipython3",
   "version": "3.12.2"
  }
 },
 "nbformat": 4,
 "nbformat_minor": 2
}
